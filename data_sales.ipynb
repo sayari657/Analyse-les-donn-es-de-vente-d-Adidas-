{
 "cells": [
  {
   "cell_type": "code",
   "execution_count": null,
   "id": "fe1c8bdb",
   "metadata": {},
   "outputs": [],
   "source": [
    "import numpy as np\n",
    "import pandas as pd\n",
    "import matplotlib.pyplot as plt"
   ]
  },
  {
   "cell_type": "code",
   "execution_count": null,
   "id": "a1955a31",
   "metadata": {},
   "outputs": [],
   "source": [
    "\n",
    "url = r\"C:\\Users\\MSI\\Desktop\\project For Me\\adidas sales\\xlsx\\data_sales-_1_.xlsx\"\n",
    "data = pd.read_excel(url)\n",
    "\n",
    "print(data)"
   ]
  },
  {
   "cell_type": "code",
   "execution_count": null,
   "id": "4a5772fe",
   "metadata": {},
   "outputs": [],
   "source": [
    "data.head()"
   ]
  },
  {
   "cell_type": "code",
   "execution_count": null,
   "id": "f027d86c",
   "metadata": {},
   "outputs": [],
   "source": [
    "data.shape"
   ]
  },
  {
   "cell_type": "code",
   "execution_count": null,
   "id": "58537817",
   "metadata": {},
   "outputs": [],
   "source": [
    "data.columns"
   ]
  },
  {
   "cell_type": "code",
   "execution_count": null,
   "id": "d50b95b4",
   "metadata": {},
   "outputs": [],
   "source": [
    "data.dtypes"
   ]
  },
  {
   "cell_type": "code",
   "execution_count": null,
   "id": "8ee6ef50",
   "metadata": {},
   "outputs": [],
   "source": [
    "data[\"City\"].unique()"
   ]
  },
  {
   "cell_type": "code",
   "execution_count": null,
   "id": "a638ee4c",
   "metadata": {},
   "outputs": [],
   "source": [
    "data.nunique()"
   ]
  },
  {
   "cell_type": "code",
   "execution_count": null,
   "id": "3c774dca",
   "metadata": {},
   "outputs": [],
   "source": [
    "data.describe()"
   ]
  },
  {
   "cell_type": "code",
   "execution_count": null,
   "id": "554e7209",
   "metadata": {},
   "outputs": [],
   "source": [
    "data[\"City\"].value_counts()"
   ]
  },
  {
   "cell_type": "code",
   "execution_count": null,
   "id": "f37d2052",
   "metadata": {},
   "outputs": [],
   "source": [
    "data.isnull()"
   ]
  },
  {
   "cell_type": "code",
   "execution_count": null,
   "id": "464c32bd",
   "metadata": {},
   "outputs": [],
   "source": [
    "import numpy as np  # Import numpy library\n",
    "\n",
    "# Assuming 'data' is your DataFrame containing the sales metrics\n",
    "\n",
    "# Convert relevant columns to numeric data types, handling errors gracefully\n",
    "data[\"Total Sales\"] = pd.to_numeric(data[\"Total Sales\"], errors='coerce')\n",
    "data[\"Operating Profit\"] = pd.to_numeric(data[\"Operating Profit\"], errors='coerce')\n",
    "data[\"Price per Unit\"] = pd.to_numeric(data[\"Price per Unit\"], errors='coerce')\n",
    "data[\"Units Sold\"] = pd.to_numeric(data[\"Units Sold\"], errors='coerce')\n",
    "\n",
    "# Replace NaN values with zeros\n",
    "data.fillna(0, inplace=True)\n",
    "\n",
    "# Calculate the values for the pie chart\n",
    "values = [data[\"Total Sales\"].sum(), \n",
    "          data[\"Operating Profit\"].sum(), \n",
    "          data[\"Price per Unit\"].mean(), \n",
    "          data[\"Units Sold\"].sum()]\n",
    "\n",
    "# Define the labels for the pie chart\n",
    "labels = ['Total Sales', 'Operating Profit', 'Average Price per Unit', 'Total Units Sold']\n",
    "\n",
    "# Plotting the pie chart\n",
    "plt.figure(figsize=(8, 8))\n",
    "plt.pie(values, labels=labels, autopct='%1.1f%%', startangle=140)\n",
    "plt.title('Sales Metrics')\n",
    "plt.show()\n"
   ]
  },
  {
   "cell_type": "code",
   "execution_count": null,
   "id": "66e16565",
   "metadata": {},
   "outputs": [],
   "source": [
    "# Assuming you have a DataFrame named data containing information about retailers and their operating profit\n",
    "# You can extract the top 10 retailers based on their operating profit\n",
    "top_retailers = data.nlargest(10, 'Operating Profit')\n",
    "\n",
    "# Now you can proceed with plotting the bar chart using the top_retailers DataFrame\n",
    "plt.figure(figsize=(10,6))\n",
    "top_retailers.plot(kind='bar', color='skyblue')\n",
    "plt.title('Profit by Retailer (top 10)')\n",
    "plt.xlabel('Retailer')\n",
    "plt.ylabel('Operating Profit')\n",
    "plt.xticks(rotation=45)\n",
    "plt.tight_layout()\n"
   ]
  },
  {
   "cell_type": "code",
   "execution_count": null,
   "id": "96c93afd",
   "metadata": {},
   "outputs": [],
   "source": [
    "import pandas as pd\n",
    "\n",
    "data['Invoice Date'] = pd.to_datetime(data['Invoice Date'])\n",
    "monthly_sales = data.resample('M', on='Invoice Date')['Total Sales'].sum()\n"
   ]
  },
  {
   "cell_type": "code",
   "execution_count": null,
   "id": "0e9032a4",
   "metadata": {},
   "outputs": [],
   "source": [
    "plt.figure(figsize=(12,6))\n",
    "monthly_sales.plot(kind='line',marker='o',color='green')\n",
    "plt.title('Monthly sales Trend Over Time')\n",
    "plt.xlabel ('Month')\n",
    "plt.ylabel ('Total Sales')\n",
    "plt.grid()"
   ]
  },
  {
   "cell_type": "code",
   "execution_count": null,
   "id": "0c27fd27",
   "metadata": {},
   "outputs": [],
   "source": [
    "\n"
   ]
  },
  {
   "cell_type": "code",
   "execution_count": null,
   "id": "ccacc2f1",
   "metadata": {},
   "outputs": [],
   "source": []
  }
 ],
 "metadata": {
  "kernelspec": {
   "display_name": "Python 3 (ipykernel)",
   "language": "python",
   "name": "python3"
  },
  "language_info": {
   "codemirror_mode": {
    "name": "ipython",
    "version": 3
   },
   "file_extension": ".py",
   "mimetype": "text/x-python",
   "name": "python",
   "nbconvert_exporter": "python",
   "pygments_lexer": "ipython3",
   "version": "3.11.5"
  }
 },
 "nbformat": 4,
 "nbformat_minor": 5
}
